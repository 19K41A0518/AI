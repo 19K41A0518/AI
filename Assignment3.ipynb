{
  "nbformat": 4,
  "nbformat_minor": 0,
  "metadata": {
    "colab": {
      "name": "Untitled1.ipynb",
      "provenance": [],
      "authorship_tag": "ABX9TyOBCCBvJryNs+YO0VXTehSb",
      "include_colab_link": true
    },
    "kernelspec": {
      "name": "python3",
      "display_name": "Python 3"
    },
    "language_info": {
      "name": "python"
    }
  },
  "cells": [
    {
      "cell_type": "markdown",
      "metadata": {
        "id": "view-in-github",
        "colab_type": "text"
      },
      "source": [
        "<a href=\"https://colab.research.google.com/github/19K41A0518/AI/blob/main/Assignment3.ipynb\" target=\"_parent\"><img src=\"https://colab.research.google.com/assets/colab-badge.svg\" alt=\"Open In Colab\"/></a>"
      ]
    },
    {
      "cell_type": "code",
      "metadata": {
        "colab": {
          "base_uri": "https://localhost:8080/"
        },
        "id": "Yu0WBIrSlOGA",
        "outputId": "85ced74f-6ef9-48e2-9f41-792e4469cea7"
      },
      "source": [
        "import numpy as np\n",
        "import math\n",
        "x=np.random.uniform(-100,100)\n",
        "y=np.random.uniform(-100,100)\n",
        "eta=0.001\n",
        "iter_max=10000\n",
        "i=1\n",
        "while i<=iter_max:\n",
        "   slope1 = 6*x\n",
        "   slope2 = -5*math.exp(-y)\n",
        "   steplength1= -eta*slope1\n",
        "   steplength2= -eta*slope2\n",
        "   x=x+ steplength1\n",
        "   y=y+ steplength2\n",
        "   i=i+1\n",
        "print(\"x : \",round(x))\n",
        "print(\"y : \",round(y))\n",
        "obj=3 * x*x+5* math.exp(-y)+10\n",
        "print(\"objective function  :\",obj)"
      ],
      "execution_count": 35,
      "outputs": [
        {
          "output_type": "stream",
          "name": "stdout",
          "text": [
            "x :  0\n",
            "y :  4\n",
            "objective function  : 10.09870495930008\n"
          ]
        }
      ]
    },
    {
      "cell_type": "markdown",
      "metadata": {
        "id": "5UkZ-9GBmT-M"
      },
      "source": [
        "![picture](https://drive.google.com/uc?export=view&id=1a55KBDNXcSUKtHODoFwE_MIPfJ8BGWos)"
      ]
    },
    {
      "cell_type": "code",
      "metadata": {
        "id": "_h4D9lGRmVcu"
      },
      "source": [
        ""
      ],
      "execution_count": null,
      "outputs": []
    }
  ]
}