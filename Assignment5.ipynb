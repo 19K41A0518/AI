{
  "nbformat": 4,
  "nbformat_minor": 0,
  "metadata": {
    "colab": {
      "name": "Assignment5.ipynb",
      "provenance": [],
      "authorship_tag": "ABX9TyMv9NY0HeCGzIjgYKwZqao4",
      "include_colab_link": true
    },
    "kernelspec": {
      "name": "python3",
      "display_name": "Python 3"
    },
    "language_info": {
      "name": "python"
    }
  },
  "cells": [
    {
      "cell_type": "markdown",
      "metadata": {
        "id": "view-in-github",
        "colab_type": "text"
      },
      "source": [
        "<a href=\"https://colab.research.google.com/github/19K41A0518/AI/blob/main/Assignment5.ipynb\" target=\"_parent\"><img src=\"https://colab.research.google.com/assets/colab-badge.svg\" alt=\"Open In Colab\"/></a>"
      ]
    },
    {
      "cell_type": "markdown",
      "metadata": {
        "id": "Zkg7jV7_-w6_"
      },
      "source": [
        "**Assignment- 5**\n",
        "Problem Statement-: Estimate the load at particular hour of the day (L(T)) based on previous three hours load [L(T-1),L(T-2),L(T-3)] using multiple linear regression model"
      ]
    },
    {
      "cell_type": "markdown",
      "metadata": {
        "id": "sHsYc82D-Z1x"
      },
      "source": [
        "**Mount Drive**"
      ]
    },
    {
      "cell_type": "code",
      "metadata": {
        "id": "nAJQebQN7gCw",
        "colab": {
          "base_uri": "https://localhost:8080/"
        },
        "outputId": "bed1ad39-93d7-49b0-d98d-a210c7086af0"
      },
      "source": [
        "from google.colab import drive\n",
        "drive.mount('/content/drive')"
      ],
      "execution_count": 21,
      "outputs": [
        {
          "output_type": "stream",
          "name": "stdout",
          "text": [
            "Drive already mounted at /content/drive; to attempt to forcibly remount, call drive.mount(\"/content/drive\", force_remount=True).\n"
          ]
        }
      ]
    },
    {
      "cell_type": "markdown",
      "metadata": {
        "id": "0HikNKEp_GBg"
      },
      "source": [
        "**Importing libraries**\n",
        "\n"
      ]
    },
    {
      "cell_type": "code",
      "metadata": {
        "id": "mrbKBCis99vw"
      },
      "source": [
        "import numpy as np\n",
        "import random\n",
        "import pandas as pd\n",
        "import math\n",
        "from sklearn.metrics import mean_squared_error \n",
        "from sklearn.metrics import mean_absolute_error\n",
        "from sklearn import metrics"
      ],
      "execution_count": 22,
      "outputs": []
    },
    {
      "cell_type": "markdown",
      "metadata": {
        "id": "Ot7yFK7h_NOG"
      },
      "source": [
        "**Data**"
      ]
    },
    {
      "cell_type": "code",
      "metadata": {
        "colab": {
          "base_uri": "https://localhost:8080/",
          "height": 202
        },
        "id": "ifQFsEvj-C-X",
        "outputId": "ecc44e6a-e535-4b6d-aa2d-82c092a92935"
      },
      "source": [
        "data = pd.read_csv('/content/drive/MyDrive/data/dataset.csv')\n",
        "data.head()"
      ],
      "execution_count": 23,
      "outputs": [
        {
          "output_type": "execute_result",
          "data": {
            "text/html": [
              "<div>\n",
              "<style scoped>\n",
              "    .dataframe tbody tr th:only-of-type {\n",
              "        vertical-align: middle;\n",
              "    }\n",
              "\n",
              "    .dataframe tbody tr th {\n",
              "        vertical-align: top;\n",
              "    }\n",
              "\n",
              "    .dataframe thead th {\n",
              "        text-align: right;\n",
              "    }\n",
              "</style>\n",
              "<table border=\"1\" class=\"dataframe\">\n",
              "  <thead>\n",
              "    <tr style=\"text-align: right;\">\n",
              "      <th></th>\n",
              "      <th>X1</th>\n",
              "      <th>X2</th>\n",
              "      <th>X3</th>\n",
              "      <th>Y</th>\n",
              "    </tr>\n",
              "  </thead>\n",
              "  <tbody>\n",
              "    <tr>\n",
              "      <th>0</th>\n",
              "      <td>5551.82208</td>\n",
              "      <td>4983.17184</td>\n",
              "      <td>4888.39680</td>\n",
              "      <td>5072.95872</td>\n",
              "    </tr>\n",
              "    <tr>\n",
              "      <th>1</th>\n",
              "      <td>4983.17184</td>\n",
              "      <td>4888.39680</td>\n",
              "      <td>5072.95872</td>\n",
              "      <td>5196.25980</td>\n",
              "    </tr>\n",
              "    <tr>\n",
              "      <th>2</th>\n",
              "      <td>4888.39680</td>\n",
              "      <td>5072.95872</td>\n",
              "      <td>5196.25980</td>\n",
              "      <td>5641.29720</td>\n",
              "    </tr>\n",
              "    <tr>\n",
              "      <th>3</th>\n",
              "      <td>5072.95872</td>\n",
              "      <td>5196.25980</td>\n",
              "      <td>5641.29720</td>\n",
              "      <td>7153.17732</td>\n",
              "    </tr>\n",
              "    <tr>\n",
              "      <th>4</th>\n",
              "      <td>5196.25980</td>\n",
              "      <td>5641.29720</td>\n",
              "      <td>7153.17732</td>\n",
              "      <td>7849.80504</td>\n",
              "    </tr>\n",
              "  </tbody>\n",
              "</table>\n",
              "</div>"
            ],
            "text/plain": [
              "           X1          X2          X3           Y\n",
              "0  5551.82208  4983.17184  4888.39680  5072.95872\n",
              "1  4983.17184  4888.39680  5072.95872  5196.25980\n",
              "2  4888.39680  5072.95872  5196.25980  5641.29720\n",
              "3  5072.95872  5196.25980  5641.29720  7153.17732\n",
              "4  5196.25980  5641.29720  7153.17732  7849.80504"
            ]
          },
          "metadata": {},
          "execution_count": 23
        }
      ]
    },
    {
      "cell_type": "markdown",
      "metadata": {
        "id": "-KwfmMLU_URa"
      },
      "source": [
        "**Outliers Detection**"
      ]
    },
    {
      "cell_type": "code",
      "metadata": {
        "id": "4nhkAUt5-Nge"
      },
      "source": [
        "utliers = []\n",
        "def detect_outliers_zscore(data):\n",
        "    thres = 3\n",
        "    mean = np.mean(data)\n",
        "    std = np.std(data)\n",
        "    # print(mean, std)\n",
        "    for j in data:\n",
        "        z_score = (j-mean)/std\n",
        "        if (np.abs(z_score) > thres):\n",
        "            outliers.append(i)\n",
        "    return outliers # Driver code"
      ],
      "execution_count": 24,
      "outputs": []
    },
    {
      "cell_type": "code",
      "metadata": {
        "id": "SLYbCNql_XQ5"
      },
      "source": [
        ""
      ],
      "execution_count": 19,
      "outputs": []
    },
    {
      "cell_type": "markdown",
      "metadata": {
        "id": "xJnCwVfsElBp"
      },
      "source": [
        "**Missing Values Treatement**"
      ]
    },
    {
      "cell_type": "code",
      "metadata": {
        "colab": {
          "base_uri": "https://localhost:8080/"
        },
        "id": "1idWNx-hE4dj",
        "outputId": "4aaf2fcb-1cb0-429b-ebd6-dff80f507a9c"
      },
      "source": [
        "print(data.isnull().sum())"
      ],
      "execution_count": 25,
      "outputs": [
        {
          "output_type": "stream",
          "name": "stdout",
          "text": [
            "X1    0\n",
            "X2    0\n",
            "X3    0\n",
            "Y     0\n",
            "dtype: int64\n"
          ]
        }
      ]
    },
    {
      "cell_type": "code",
      "metadata": {
        "colab": {
          "base_uri": "https://localhost:8080/",
          "height": 202
        },
        "id": "LhHiZxsRFAyh",
        "outputId": "cbc4ac15-679d-4c29-e483-182bd55c6ae3"
      },
      "source": [
        "def normalize(column):\n",
        "    c_max, c_min = np.max(column), np.min(column)\n",
        "    for j in range(len(column)):\n",
        "        column.iloc[j] = (column.iloc[j] - c_min) / (c_max - c_min)\n",
        "    return c_max, c_min\n",
        "x1max, x1min = normalize(data['X1'])\n",
        "x2max, x2min = normalize(data['X2'])\n",
        "x3max, x3min = normalize(data['X3'])\n",
        "ymax, ymin = normalize(data['Y'])\n",
        "data.head()"
      ],
      "execution_count": 26,
      "outputs": [
        {
          "output_type": "execute_result",
          "data": {
            "text/html": [
              "<div>\n",
              "<style scoped>\n",
              "    .dataframe tbody tr th:only-of-type {\n",
              "        vertical-align: middle;\n",
              "    }\n",
              "\n",
              "    .dataframe tbody tr th {\n",
              "        vertical-align: top;\n",
              "    }\n",
              "\n",
              "    .dataframe thead th {\n",
              "        text-align: right;\n",
              "    }\n",
              "</style>\n",
              "<table border=\"1\" class=\"dataframe\">\n",
              "  <thead>\n",
              "    <tr style=\"text-align: right;\">\n",
              "      <th></th>\n",
              "      <th>X1</th>\n",
              "      <th>X2</th>\n",
              "      <th>X3</th>\n",
              "      <th>Y</th>\n",
              "    </tr>\n",
              "  </thead>\n",
              "  <tbody>\n",
              "    <tr>\n",
              "      <th>0</th>\n",
              "      <td>0.397877</td>\n",
              "      <td>0.293800</td>\n",
              "      <td>0.276454</td>\n",
              "      <td>0.310234</td>\n",
              "    </tr>\n",
              "    <tr>\n",
              "      <th>1</th>\n",
              "      <td>0.293800</td>\n",
              "      <td>0.276454</td>\n",
              "      <td>0.310234</td>\n",
              "      <td>0.332801</td>\n",
              "    </tr>\n",
              "    <tr>\n",
              "      <th>2</th>\n",
              "      <td>0.276454</td>\n",
              "      <td>0.310234</td>\n",
              "      <td>0.332801</td>\n",
              "      <td>0.414254</td>\n",
              "    </tr>\n",
              "    <tr>\n",
              "      <th>3</th>\n",
              "      <td>0.310234</td>\n",
              "      <td>0.332801</td>\n",
              "      <td>0.414254</td>\n",
              "      <td>0.690965</td>\n",
              "    </tr>\n",
              "    <tr>\n",
              "      <th>4</th>\n",
              "      <td>0.332801</td>\n",
              "      <td>0.414254</td>\n",
              "      <td>0.690965</td>\n",
              "      <td>0.818465</td>\n",
              "    </tr>\n",
              "  </tbody>\n",
              "</table>\n",
              "</div>"
            ],
            "text/plain": [
              "         X1        X2        X3         Y\n",
              "0  0.397877  0.293800  0.276454  0.310234\n",
              "1  0.293800  0.276454  0.310234  0.332801\n",
              "2  0.276454  0.310234  0.332801  0.414254\n",
              "3  0.310234  0.332801  0.414254  0.690965\n",
              "4  0.332801  0.414254  0.690965  0.818465"
            ]
          },
          "metadata": {},
          "execution_count": 26
        }
      ]
    },
    {
      "cell_type": "code",
      "metadata": {
        "colab": {
          "base_uri": "https://localhost:8080/",
          "height": 414
        },
        "id": "1gpxKEwUFG33",
        "outputId": "0fe36e06-a7b0-4364-d456-76dbd5eb63ab"
      },
      "source": [
        "m1=data['X1'].mean()\n",
        "m2=data['X2'].mean()\n",
        "m3=data['X3'].mean()\n",
        "m4=data['Y'].mean()\n",
        "data['X1'].fillna(value=m1, inplace=True)\n",
        "data['X2'].fillna(value=m2, inplace=True)\n",
        "data['X3'].fillna(value=m3, inplace=True)\n",
        "data['Y'].fillna(value=m4, inplace=True)\n",
        "data"
      ],
      "execution_count": 27,
      "outputs": [
        {
          "output_type": "execute_result",
          "data": {
            "text/html": [
              "<div>\n",
              "<style scoped>\n",
              "    .dataframe tbody tr th:only-of-type {\n",
              "        vertical-align: middle;\n",
              "    }\n",
              "\n",
              "    .dataframe tbody tr th {\n",
              "        vertical-align: top;\n",
              "    }\n",
              "\n",
              "    .dataframe thead th {\n",
              "        text-align: right;\n",
              "    }\n",
              "</style>\n",
              "<table border=\"1\" class=\"dataframe\">\n",
              "  <thead>\n",
              "    <tr style=\"text-align: right;\">\n",
              "      <th></th>\n",
              "      <th>X1</th>\n",
              "      <th>X2</th>\n",
              "      <th>X3</th>\n",
              "      <th>Y</th>\n",
              "    </tr>\n",
              "  </thead>\n",
              "  <tbody>\n",
              "    <tr>\n",
              "      <th>0</th>\n",
              "      <td>0.397877</td>\n",
              "      <td>0.293800</td>\n",
              "      <td>0.276454</td>\n",
              "      <td>0.310234</td>\n",
              "    </tr>\n",
              "    <tr>\n",
              "      <th>1</th>\n",
              "      <td>0.293800</td>\n",
              "      <td>0.276454</td>\n",
              "      <td>0.310234</td>\n",
              "      <td>0.332801</td>\n",
              "    </tr>\n",
              "    <tr>\n",
              "      <th>2</th>\n",
              "      <td>0.276454</td>\n",
              "      <td>0.310234</td>\n",
              "      <td>0.332801</td>\n",
              "      <td>0.414254</td>\n",
              "    </tr>\n",
              "    <tr>\n",
              "      <th>3</th>\n",
              "      <td>0.310234</td>\n",
              "      <td>0.332801</td>\n",
              "      <td>0.414254</td>\n",
              "      <td>0.690965</td>\n",
              "    </tr>\n",
              "    <tr>\n",
              "      <th>4</th>\n",
              "      <td>0.332801</td>\n",
              "      <td>0.414254</td>\n",
              "      <td>0.690965</td>\n",
              "      <td>0.818465</td>\n",
              "    </tr>\n",
              "    <tr>\n",
              "      <th>...</th>\n",
              "      <td>...</td>\n",
              "      <td>...</td>\n",
              "      <td>...</td>\n",
              "      <td>...</td>\n",
              "    </tr>\n",
              "    <tr>\n",
              "      <th>2176</th>\n",
              "      <td>0.354626</td>\n",
              "      <td>0.350803</td>\n",
              "      <td>0.305212</td>\n",
              "      <td>0.228524</td>\n",
              "    </tr>\n",
              "    <tr>\n",
              "      <th>2177</th>\n",
              "      <td>0.350803</td>\n",
              "      <td>0.305212</td>\n",
              "      <td>0.228524</td>\n",
              "      <td>0.217797</td>\n",
              "    </tr>\n",
              "    <tr>\n",
              "      <th>2178</th>\n",
              "      <td>0.305212</td>\n",
              "      <td>0.228524</td>\n",
              "      <td>0.217797</td>\n",
              "      <td>0.246298</td>\n",
              "    </tr>\n",
              "    <tr>\n",
              "      <th>2179</th>\n",
              "      <td>0.228524</td>\n",
              "      <td>0.217797</td>\n",
              "      <td>0.246298</td>\n",
              "      <td>0.324384</td>\n",
              "    </tr>\n",
              "    <tr>\n",
              "      <th>2180</th>\n",
              "      <td>0.217797</td>\n",
              "      <td>0.246298</td>\n",
              "      <td>0.324384</td>\n",
              "      <td>0.651650</td>\n",
              "    </tr>\n",
              "  </tbody>\n",
              "</table>\n",
              "<p>2181 rows × 4 columns</p>\n",
              "</div>"
            ],
            "text/plain": [
              "            X1        X2        X3         Y\n",
              "0     0.397877  0.293800  0.276454  0.310234\n",
              "1     0.293800  0.276454  0.310234  0.332801\n",
              "2     0.276454  0.310234  0.332801  0.414254\n",
              "3     0.310234  0.332801  0.414254  0.690965\n",
              "4     0.332801  0.414254  0.690965  0.818465\n",
              "...        ...       ...       ...       ...\n",
              "2176  0.354626  0.350803  0.305212  0.228524\n",
              "2177  0.350803  0.305212  0.228524  0.217797\n",
              "2178  0.305212  0.228524  0.217797  0.246298\n",
              "2179  0.228524  0.217797  0.246298  0.324384\n",
              "2180  0.217797  0.246298  0.324384  0.651650\n",
              "\n",
              "[2181 rows x 4 columns]"
            ]
          },
          "metadata": {},
          "execution_count": 27
        }
      ]
    },
    {
      "cell_type": "code",
      "metadata": {
        "colab": {
          "base_uri": "https://localhost:8080/"
        },
        "id": "SRNEjihpFMtz",
        "outputId": "3aed503e-a7c9-4a05-a064-1b0a1d0b568c"
      },
      "source": [
        "from sklearn.model_selection import train_test_split\n",
        "dataframe = data.values\n",
        "X, y = dataframe[:, :-1], dataframe[:, -1]\n",
        "x_train, x_test, y_train, y_test = train_test_split(X, y, test_size = 0.20, random_state = 10)\n",
        "x_train"
      ],
      "execution_count": 28,
      "outputs": [
        {
          "output_type": "execute_result",
          "data": {
            "text/plain": [
              "array([[0.32324327, 0.58058258, 0.62138027],\n",
              "       [0.63507461, 0.41339762, 0.35314256],\n",
              "       [0.64848364, 0.60414824, 0.51333771],\n",
              "       ...,\n",
              "       [0.61011098, 0.44563636, 0.4770192 ],\n",
              "       [0.22641294, 0.17160709, 0.20062195],\n",
              "       [0.4363071 , 0.41339762, 0.37793501]])"
            ]
          },
          "metadata": {},
          "execution_count": 28
        }
      ]
    },
    {
      "cell_type": "code",
      "metadata": {
        "id": "y4F9UzMzFThL"
      },
      "source": [
        "m1=random.uniform(-10,10)\n",
        "m2=random.uniform(-10,10)\n",
        "m3=random.uniform(-10,10)\n",
        "c=random.uniform(-10,10)\n",
        "eta=0.01\n",
        "max_iter=1000"
      ],
      "execution_count": 29,
      "outputs": []
    },
    {
      "cell_type": "code",
      "metadata": {
        "id": "F9UnsAAtFYR4"
      },
      "source": [
        "def gradient(m1,m2,m3,c,x1,x2,x3,y):\n",
        "  m1_deriv=-1*(y-m1*x1-m2*x2-m3*x3-c)*x1\n",
        "  m2_deriv=-1*(y-m1*x1-m2*x2-m3*x3-c)*x2\n",
        "  m3_deriv=-1*(y-m1*x1-m2*x2-m3*x3-c)*x3\n",
        "  c_deriv=-1*(y-m1*x1-m2*x2-m3*x3-c)\n",
        "  return m1_deriv,m2_deriv,m3_deriv,c_deriv"
      ],
      "execution_count": 30,
      "outputs": []
    },
    {
      "cell_type": "code",
      "metadata": {
        "colab": {
          "base_uri": "https://localhost:8080/"
        },
        "id": "Ib_JeOujFe-N",
        "outputId": "725ce355-2f68-424b-b3a3-1ac74854ceca"
      },
      "source": [
        "for iter in range(max_iter):\n",
        "  for sample in range(x_train.shape[0]):\n",
        "    del_m1,del_m2,del_m3,del_c=gradient(m1,m2,m3,c,x_train[sample,0],x_train[sample,1],x_train[sample,2],y_train[sample])\n",
        "    m1=m1-eta*del_m1\n",
        "    m2=m2-eta*del_m2\n",
        "    m3=m3-eta*del_m3\n",
        "    c=c-eta*del_c\n",
        "print('Model parameters m1, m2, m3 and c : ',m1,m2,c)"
      ],
      "execution_count": 31,
      "outputs": [
        {
          "output_type": "stream",
          "name": "stdout",
          "text": [
            "Model parameters m1, m2, m3 and c :  -0.21748361014645806 0.04155060730154118 0.1538395878338857\n"
          ]
        }
      ]
    },
    {
      "cell_type": "code",
      "metadata": {
        "id": "ojz46OQkFmcN"
      },
      "source": [
        "y_pred_train = []\n",
        "for sample in range(x_train.shape[0]):\n",
        "  x1=x_train[sample,0]\n",
        "  x2=x_train[sample,1]\n",
        "  x3=x_train[sample,2] \n",
        "  y=y_train[sample]\n",
        "  y_p_tr = (m1 * x1) + (m2 * x2) + (m3 * x3) + c\n",
        "  y_pred_train.append(y_p_tr)\n",
        "y_pred_train = np.array(y_pred_train)"
      ],
      "execution_count": 32,
      "outputs": []
    },
    {
      "cell_type": "code",
      "metadata": {
        "id": "L5FQ7mJ5FuOG"
      },
      "source": [
        "y_pred_test = []\n",
        "for sample in range(x_test.shape[0]):\n",
        "  x1=x_test[sample,0]\n",
        "  x2=x_test[sample,1]\n",
        "  x3=x_test[sample,2] \n",
        "  y=y_test[sample]\n",
        "  y_p_te = (m1 * x1) + (m2 * x2) + (m3 * x3) + c\n",
        "  y_pred_test.append(y_p_te)\n",
        "y_pred_test = np.array(y_pred_test)"
      ],
      "execution_count": 33,
      "outputs": []
    },
    {
      "cell_type": "code",
      "metadata": {
        "colab": {
          "base_uri": "https://localhost:8080/"
        },
        "id": "SwN8XR61FzMs",
        "outputId": "4b9fff02-f049-4696-bf59-1b279accd3ae"
      },
      "source": [
        "#Training Accuracies\n",
        "mse = mean_squared_error(y_train, y_pred_train) \n",
        "print('Mean Square Error', mse)\n",
        "rmse = math.sqrt(mean_squared_error(y_train, y_pred_train)) \n",
        "print('Root Mean Square Error', rmse)\n",
        "mae=mean_absolute_error(y_train, y_pred_train)\n",
        "print('Mean Absolute Error', mae)"
      ],
      "execution_count": 34,
      "outputs": [
        {
          "output_type": "stream",
          "name": "stdout",
          "text": [
            "Mean Square Error 0.013909085207057836\n",
            "Root Mean Square Error 0.11793678479192926\n",
            "Mean Absolute Error 0.08157461836796975\n"
          ]
        }
      ]
    },
    {
      "cell_type": "code",
      "metadata": {
        "colab": {
          "base_uri": "https://localhost:8080/"
        },
        "id": "O1VOU8l2F1aA",
        "outputId": "e86b60a8-1c5f-42fc-c5a1-34fdc47aec74"
      },
      "source": [
        "#Testing Accuracies\n",
        "mse = mean_squared_error(y_test, y_pred_test)\n",
        "print('Mean Square Error', mse)\n",
        "rmse = math.sqrt(mean_squared_error(y_test, y_pred_test)) \n",
        "print('Root Mean Square Error', mse) \n",
        "mae=mean_absolute_error(y_test, y_pred_test)\n",
        "print('Mean Absolute Error', mae)"
      ],
      "execution_count": 35,
      "outputs": [
        {
          "output_type": "stream",
          "name": "stdout",
          "text": [
            "Mean Square Error 0.012813521082924481\n",
            "Root Mean Square Error 0.012813521082924481\n",
            "Mean Absolute Error 0.08077037730340851\n"
          ]
        }
      ]
    },
    {
      "cell_type": "code",
      "metadata": {
        "colab": {
          "base_uri": "https://localhost:8080/"
        },
        "id": "za-xZVc2GFoA",
        "outputId": "c11c18bb-3638-42e8-f294-03596e2a5fe1"
      },
      "source": [
        "5X1=input('Enter Load Value at Time T1: ')\n",
        "X2=input('Enter Load Value at Time T2: ')\n",
        "X3=input('Enter Load Value at Time T3: ')\n",
        "Y=m1*float(X1)+m2*float(X2)+m3*float(X3)+c\n",
        "print('Power Load at Time T : ',Y)"
      ],
      "execution_count": 37,
      "outputs": [
        {
          "output_type": "stream",
          "name": "stdout",
          "text": [
            "Enter Load Value at Time T1: 5656\n",
            "Enter Load Value at Time T2: 4564\n",
            "Enter Load Value at Time T3: 5965\n",
            "Power Load at Time T :  4086.6316889992245\n"
          ]
        }
      ]
    }
  ]
}