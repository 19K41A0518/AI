{
  "nbformat": 4,
  "nbformat_minor": 0,
  "metadata": {
    "colab": {
      "name": "Assignment1.ipynb",
      "provenance": [],
      "authorship_tag": "ABX9TyM0KSLT0o9/uKlxRg0weGPH",
      "include_colab_link": true
    },
    "kernelspec": {
      "name": "python3",
      "display_name": "Python 3"
    },
    "language_info": {
      "name": "python"
    }
  },
  "cells": [
    {
      "cell_type": "markdown",
      "metadata": {
        "id": "view-in-github",
        "colab_type": "text"
      },
      "source": [
        "<a href=\"https://colab.research.google.com/github/19K41A0518/AI/blob/main/Assignment1.ipynb\" target=\"_parent\"><img src=\"https://colab.research.google.com/assets/colab-badge.svg\" alt=\"Open In Colab\"/></a>"
      ]
    },
    {
      "cell_type": "code",
      "metadata": {
        "colab": {
          "base_uri": "https://localhost:8080/"
        },
        "id": "psG0JZwfFgtm",
        "outputId": "1a10f52f-428f-49f2-e778-f81db0982407"
      },
      "source": [
        "from scipy.optimize import linprog\n",
        "obj=[-50,-120]# objective function matrix\n",
        "\n",
        "A_ieq=[[7000,2000],[10,30]] # Inequality constraints coeff. matrix \n",
        "b_ieq=[700000,1200] # Inequality constraints cont. matrix\n",
        "\n",
        "boundery=[(0, float('inf')), (0, float('inf'))] #limits for a and b\n",
        "\n",
        "opt=linprog(c=obj,A_ub=A_ieq,b_ub=b_ieq,A_eq=None,b_eq=None, bounds=boundery, method=\"Simplex\")\n",
        "\n",
        "opt.x\n",
        "\n",
        "print('The total area for growing Wheat=',round(opt.x[0]))\n",
        "\n",
        "print('The total area for growing Barely=',round(opt.x[1]))"
      ],
      "execution_count": 4,
      "outputs": [
        {
          "output_type": "stream",
          "text": [
            "The total area for growing Wheat= 98\n",
            "The total area for growing Barely= 7\n"
          ],
          "name": "stdout"
        }
      ]
    }
  ]
}