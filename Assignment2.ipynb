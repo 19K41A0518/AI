{
  "nbformat": 4,
  "nbformat_minor": 0,
  "metadata": {
    "colab": {
      "name": "Untitled0.ipynb",
      "provenance": [],
      "authorship_tag": "ABX9TyMGxrZ4gWYh+qn8RbmMeXs0",
      "include_colab_link": true
    },
    "kernelspec": {
      "name": "python3",
      "display_name": "Python 3"
    },
    "language_info": {
      "name": "python"
    }
  },
  "cells": [
    {
      "cell_type": "markdown",
      "metadata": {
        "id": "view-in-github",
        "colab_type": "text"
      },
      "source": [
        "<a href=\"https://colab.research.google.com/github/19K41A0518/AI/blob/main/Assignment2.ipynb\" target=\"_parent\"><img src=\"https://colab.research.google.com/assets/colab-badge.svg\" alt=\"Open In Colab\"/></a>"
      ]
    },
    {
      "cell_type": "code",
      "metadata": {
        "colab": {
          "base_uri": "https://localhost:8080/"
        },
        "id": "3HFZmSe4l8cy",
        "outputId": "b09af2b7-ac25-4243-9821-e534c8c7fa47"
      },
      "source": [
        "import numpy as np\n",
        "x=np.random.uniform(-10,10)\n",
        "eta=0.001\n",
        "iter_max=1000\n",
        "iter=1\n",
        "while iter<=iter_max:\n",
        "  slope=4*x*x*x + 6*x\n",
        "  step_length=-eta*slope\n",
        "  x=x+step_length\n",
        "  iter=iter+1\n",
        "print(\"value of x :\",round(x))\n",
        "obj=x*x*x*x+3*x*x+10\n",
        "print(\"objective function =\",obj)"
      ],
      "execution_count": 1,
      "outputs": [
        {
          "output_type": "stream",
          "name": "stdout",
          "text": [
            "value of x : 0\n",
            "objective function = 10.000021394528428\n"
          ]
        }
      ]
    },
    {
      "cell_type": "markdown",
      "metadata": {
        "id": "lqUhbUksmShN"
      },
      "source": [
        "![picture](https://drive.google.com/uc?export=view&id=1_a33hj4vjTZzZVUuRLGURLdSfdEX_0dW)"
      ]
    },
    {
      "cell_type": "code",
      "metadata": {
        "id": "uyzU74fbmTpO"
      },
      "source": [
        ""
      ],
      "execution_count": null,
      "outputs": []
    }
  ]
}